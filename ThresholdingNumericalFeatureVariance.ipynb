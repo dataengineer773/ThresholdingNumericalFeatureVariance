{
 "cells": [
  {
   "cell_type": "code",
   "execution_count": 1,
   "id": "fb88eb2a-9b4b-4991-8b9e-b497d2abe0a2",
   "metadata": {},
   "outputs": [],
   "source": [
    "# Load libraries\n",
    "from sklearn import datasets\n",
    "from sklearn.feature_selection import VarianceThreshold"
   ]
  },
  {
   "cell_type": "code",
   "execution_count": 2,
   "id": "50756b88-4058-4583-bf4b-cdf06b613a6a",
   "metadata": {},
   "outputs": [],
   "source": [
    "# import some data to play with\n",
    "iris = datasets.load_iris()"
   ]
  },
  {
   "cell_type": "code",
   "execution_count": 3,
   "id": "557e9231-9e28-432e-8310-4b3756407a74",
   "metadata": {},
   "outputs": [],
   "source": [
    "# Create features and target\n",
    "features = iris.data\n",
    "target = iris.target"
   ]
  },
  {
   "cell_type": "code",
   "execution_count": 4,
   "id": "0cc9af05-e265-43d1-845f-dc28d0345a41",
   "metadata": {},
   "outputs": [],
   "source": [
    "# Create thresholder\n",
    "thresholder = VarianceThreshold(threshold=.5)"
   ]
  },
  {
   "cell_type": "code",
   "execution_count": 5,
   "id": "4c111b65-6813-42ea-8602-fa78a9260a6b",
   "metadata": {},
   "outputs": [],
   "source": [
    "# Create high variance feature matrix\n",
    "features_high_variance = thresholder.fit_transform(features)"
   ]
  },
  {
   "cell_type": "code",
   "execution_count": 6,
   "id": "1be7f7f1-002d-4b46-8deb-695ac3aad30c",
   "metadata": {},
   "outputs": [
    {
     "data": {
      "text/plain": [
       "array([[5.1, 1.4, 0.2],\n",
       "       [4.9, 1.4, 0.2],\n",
       "       [4.7, 1.3, 0.2]])"
      ]
     },
     "execution_count": 6,
     "metadata": {},
     "output_type": "execute_result"
    }
   ],
   "source": [
    "# View high variance feature matrix\n",
    "features_high_variance[0:3]"
   ]
  },
  {
   "cell_type": "code",
   "execution_count": 7,
   "id": "d291d5db-43da-4f5d-a000-f791485cb7c6",
   "metadata": {},
   "outputs": [
    {
     "data": {
      "text/plain": [
       "array([0.68112222, 0.18871289, 3.09550267, 0.57713289])"
      ]
     },
     "execution_count": 7,
     "metadata": {},
     "output_type": "execute_result"
    }
   ],
   "source": [
    "# View variances\n",
    "thresholder.fit(features).variances_"
   ]
  },
  {
   "cell_type": "code",
   "execution_count": 8,
   "id": "71e6618b-7de3-490e-a1f6-18713a78f202",
   "metadata": {},
   "outputs": [],
   "source": [
    "# Load library\n",
    "from sklearn.preprocessing import StandardScaler"
   ]
  },
  {
   "cell_type": "code",
   "execution_count": 9,
   "id": "d9e449c5-1297-4dc5-bc75-4337c0935cbe",
   "metadata": {},
   "outputs": [],
   "source": [
    "# Standardize feature matrix\n",
    "scaler = StandardScaler()\n",
    "features_std = scaler.fit_transform(features)"
   ]
  },
  {
   "cell_type": "code",
   "execution_count": 10,
   "id": "29adfcaa-e471-4987-a0c5-4c64a3ae23c0",
   "metadata": {},
   "outputs": [
    {
     "data": {
      "text/plain": [
       "array([1., 1., 1., 1.])"
      ]
     },
     "execution_count": 10,
     "metadata": {},
     "output_type": "execute_result"
    }
   ],
   "source": [
    "# Caculate variance of each feature\n",
    "selector = VarianceThreshold()\n",
    "selector.fit(features_std).variances_"
   ]
  },
  {
   "cell_type": "code",
   "execution_count": null,
   "id": "85838943-80c6-4e47-8a3c-d848bca5a2e0",
   "metadata": {},
   "outputs": [],
   "source": []
  }
 ],
 "metadata": {
  "kernelspec": {
   "display_name": "Python 3 (ipykernel)",
   "language": "python",
   "name": "python3"
  },
  "language_info": {
   "codemirror_mode": {
    "name": "ipython",
    "version": 3
   },
   "file_extension": ".py",
   "mimetype": "text/x-python",
   "name": "python",
   "nbconvert_exporter": "python",
   "pygments_lexer": "ipython3",
   "version": "3.12.3"
  }
 },
 "nbformat": 4,
 "nbformat_minor": 5
}
